{
 "cells": [
  {
   "cell_type": "markdown",
   "metadata": {
    "slideshow": {
     "slide_type": "slide"
    }
   },
   "source": [
    "###### Introducción a Python"
   ]
  },
  {
   "cell_type": "markdown",
   "metadata": {
    "slideshow": {
     "slide_type": "slide"
    }
   },
   "source": [
    "_\"I don't know about the rest of you..._ \n",
    "_I came for the language, but I stayed for the community.\"_\n",
    "\n",
    "Brett Cannon, Python Core Dev\n"
   ]
  },
  {
   "cell_type": "markdown",
   "metadata": {
    "slideshow": {
     "slide_type": "slide"
    }
   },
   "source": [
    "#### ¿Qué es Python?\n",
    "\n",
    "*  Creado por [Guido van Rossum](https://es.wikipedia.org/wiki/Guido_van_Rossum) en 1991.\n",
    "* Lenguaje de programación libre y gratuito. Características:\n",
    "    * interpretado\n",
    "    * de alto nivel\n",
    "    * de propósito general\n",
    "    * tipado dinámico\n",
    "    * gestión automática de memoria\n",
    "    * múltiples paradigmas de programación (OOP, Funcional...)\n",
    "    * multitud de paquetes para realizar diferentes tareas."
   ]
  },
  {
   "cell_type": "markdown",
   "metadata": {
    "slideshow": {
     "slide_type": "subslide"
    }
   },
   "source": [
    "#### Además...\n",
    "\n",
    "Con una gran comunidad, abierta, diversa, inclusiva...  \n",
    "- Python Software Foundation\n",
    "- Python España \n",
    "- Python Madrid\n",
    "- PyLadies Madrid\n",
    "- Djangogirls"
   ]
  },
  {
   "cell_type": "markdown",
   "metadata": {
    "slideshow": {
     "slide_type": "slide"
    }
   },
   "source": [
    "## 1. Primeros pasos con Python\n",
    "### Instalación, entornos virtuales y gestores de paquetes"
   ]
  },
  {
   "cell_type": "markdown",
   "metadata": {
    "slideshow": {
     "slide_type": "fragment"
    }
   },
   "source": [
    "### Diferentes distribuciones:\n",
    "* [PYTHON.ORG](https://www.python.org/)\n",
    "* [ANACONDA](https://anaconda.org/) "
   ]
  },
  {
   "cell_type": "markdown",
   "metadata": {
    "slideshow": {
     "slide_type": "fragment"
    }
   },
   "source": [
    "### Diferentes versiones:\n",
    "* 2.X\n",
    "* 3.X"
   ]
  },
  {
   "cell_type": "markdown",
   "metadata": {
    "slideshow": {
     "slide_type": "subslide"
    }
   },
   "source": [
    "### Entornos virtuales\n",
    "\n",
    "- El propósito principal de los entornos virtuales de Python es crear un entorno aislado para los proyectos de Python. \n",
    "\n",
    "- Esto significa que cada proyecto puede tener sus propias dependencias, independientemente de qué dependencias tenga cada otro proyecto."
   ]
  },
  {
   "cell_type": "markdown",
   "metadata": {
    "slideshow": {
     "slide_type": "subslide"
    }
   },
   "source": [
    "- **venv** es la herramienta estándar para crear entornos virtuales, y ha sido parte de Python desde Python 3.3. A partir de Python 3.4, se instala de forma predeterminada pip en todos los entornos virtuales creados."
   ]
  },
  {
   "cell_type": "markdown",
   "metadata": {
    "slideshow": {
     "slide_type": "fragment"
    }
   },
   "source": [
    "- **virtualenv** es una alternativa de terceros (y predecesora) a venv. Permite que los entornos virtuales se utilicen en versiones de Python anteriores a 3.4, que no proporcionan ningún tipo de software o no pueden instalar pip automáticamente en los entornos creados."
   ]
  },
  {
   "cell_type": "markdown",
   "metadata": {
    "slideshow": {
     "slide_type": "slide"
    }
   },
   "source": [
    "### Módulo venv - Python 3.x\n",
    "#### Crear el entorno virtual\n",
    "\n",
    "En linux:\n",
    "```bash\n",
    "$ python3 -m venv /path/to/myenv\n",
    "```\n",
    "\n",
    "En windows:\n",
    "```bash\n",
    "c:\\> c:\\Python35\\python -m venv c:\\path\\to\\myenv\n",
    "```"
   ]
  },
  {
   "cell_type": "markdown",
   "metadata": {
    "slideshow": {
     "slide_type": "subslide"
    }
   },
   "source": [
    "#### Activar el entorno virtual\n",
    "En linux:\n",
    "```bash\n",
    "$ source venv/bin/activate\n",
    "```\n",
    "\n",
    "En Windows:\n",
    "```bash\n",
    "c:\\> venv\\Scripts\\activate.bat\n",
    "```"
   ]
  },
  {
   "cell_type": "markdown",
   "metadata": {
    "slideshow": {
     "slide_type": "slide"
    }
   },
   "source": [
    "### Gestión de paquetes con pip\n",
    "- Puede instalar, actualizar y eliminar paquetes utilizando un programa llamado pip. \n",
    "- Python empezó a incluir pip con Python 3.4. Para versiones anteriores, pip debe ser activada como se describe [aquí](https://packaging.python.org/tutorials/installing-packages/#requirements-for-installing-packages).\n",
    "- Por defecto, pip instalará los paquetes del Índice de Paquetes de Python, [pypi.org](https://pypi.org)\n"
   ]
  },
  {
   "cell_type": "markdown",
   "metadata": {
    "slideshow": {
     "slide_type": "slide"
    }
   },
   "source": [
    "Usando la instalación de Python por defecto\n",
    "```bash\n",
    "$ python -m pip install SomePackage\n",
    "```\n",
    "\n",
    "Usando la versioń por defecto de Python 2\n",
    "```bash\n",
    "$ python2 -m pip install SomePackage\n",
    "```\n",
    "\n",
    "Usando la versión específica de Python 2.7\n",
    "```bash\n",
    "$ python2.7 -m pip install SomePackage\n",
    "```\n",
    "\n",
    "Usando la versión por defecto de Python 3\n",
    "```bash\n",
    "$ python3 -m pip install SomePackage\n",
    "```\n",
    "\n",
    "Usando la versión específica de Python 3.4\n",
    "```bash\n",
    "$ python3.4 -m pip install SomePackage\n",
    "```"
   ]
  },
  {
   "cell_type": "markdown",
   "metadata": {
    "slideshow": {
     "slide_type": "slide"
    }
   },
   "source": [
    "Instalar la última versión de “SomeProject”\n",
    "```bash\n",
    "$ pip install \"SomeProject\"\n",
    "```\n",
    "\n",
    "Instalar una versión específica\n",
    "```bash\n",
    "$ pip install \"SomeProject==1.4\"\n",
    "```\n",
    "\n",
    "Instalar una versión compatible con otra versión específica\n",
    "```bash\n",
    "$ pip install \"SomeProject~=1.4.2\"  \n",
    "```"
   ]
  },
  {
   "cell_type": "markdown",
   "metadata": {
    "slideshow": {
     "slide_type": "slide"
    }
   },
   "source": [
    "Actualizar SomeProject a la última versión de PyPi\n",
    "```bash\n",
    "$ pip install --upgrade SomeProject\n",
    "```\n",
    "\n",
    "Instalar una lista de librerías desde un fichero de requirements\n",
    "```bash\n",
    "$ pip install -r requirements.txt\n",
    "```\n",
    "\n",
    "Generar un fichero de requirements a partir del virtual env actual\n",
    "```bash\n",
    "$ pip freeze > requirements.txt\n",
    "```"
   ]
  },
  {
   "cell_type": "markdown",
   "metadata": {
    "slideshow": {
     "slide_type": "slide"
    }
   },
   "source": [
    "## 2. Beautiful python <3\n",
    "- [Ejemplos prácticos](1.5_beautiful_python.ipynb)"
   ]
  },
  {
   "cell_type": "markdown",
   "metadata": {
    "slideshow": {
     "slide_type": "slide"
    }
   },
   "source": [
    "## 3. Librerías para ser un buen Data Scientist"
   ]
  },
  {
   "cell_type": "markdown",
   "metadata": {
    "slideshow": {
     "slide_type": "slide"
    }
   },
   "source": [
    "<a href=\"https://jupyter.org/\"><img src=\"../images/Jupyter_logo.svg.png\"></a>\n",
    "    \n",
    "<p>Project Jupyter es una organización sin fines de lucro creada para desarrollar software de código abierto, estándares abiertos y servicios para computación interactiva en docenas de lenguajes de programación.\n"
   ]
  },
  {
   "cell_type": "markdown",
   "metadata": {
    "slideshow": {
     "slide_type": "subslide"
    }
   },
   "source": [
    "**[Notebooks](https://jupyter.org/try)**\n",
    "\n",
    "Son un entorno de trabajo interactivo que permite desarrollar código en Python (por defecto, aunque veremos más adelante cómo permitir otros lenguajes) de manera dinámica, a la vez que integrar en un mismo documento tanto bloques de código como texto, gráficas o imágenes. \n",
    "\n",
    "Es un SaaS utilizado ampliamente en análisis numérico, estadística y machine learning, entre otros campos de la informática y las matemáticas."
   ]
  },
  {
   "cell_type": "markdown",
   "metadata": {
    "slideshow": {
     "slide_type": "subslide"
    }
   },
   "source": [
    "<a href=\"https://www.datacamp.com/community/blog/jupyter-notebook-cheat-sheet\"><img src=\"../images/jupyter_datacamp_cheatsheet.png\"></a>"
   ]
  },
  {
   "cell_type": "markdown",
   "metadata": {
    "slideshow": {
     "slide_type": "subslide"
    }
   },
   "source": [
    "**[Jupyter Lab](https://jupyter.org/try)**\n",
    "\n",
    "JupyterLab es la nueva generación de interfaces para el Proyecto Jupyter.\n",
    "\n",
    "Sin perder la compatibilidad con los Jupyter Notebooks, Jupyter Lab permite usar editores de texto, terminales, visores de ficheros y otros componentes en un workspace de pestañas muy parecido al resto de IDEs actuales."
   ]
  },
  {
   "cell_type": "markdown",
   "metadata": {
    "slideshow": {
     "slide_type": "subslide"
    }
   },
   "source": [
    "**[RISE](https://damianavila.github.io/RISE/index.html)**\n",
    "\n",
    "Integra los Jupyter Notebooks con la librería [reveal.js](https://revealjs.com/#/) para convertir los notebooks en slides **interactivas** (!!!)\n"
   ]
  },
  {
   "cell_type": "markdown",
   "metadata": {
    "slideshow": {
     "slide_type": "slide"
    }
   },
   "source": [
    "<a href=\"http://www.numpy.org/\"><img src=\"../images/numpy.jpeg\"></a>\n",
    "Extensión de Python, que le agrega mayor soporte para vectores y matrices, constituyendo una biblioteca de funciones matemáticas de alto nivel para operar con esos vectores o matrices."
   ]
  },
  {
   "cell_type": "markdown",
   "metadata": {
    "slideshow": {
     "slide_type": "subslide"
    }
   },
   "source": [
    "<a href=\"https://www.datacamp.com/community/blog/python-numpy-cheat-sheet\"><img src=\"../images/numpy_datacamp_cheatsheet.png\"></a>"
   ]
  },
  {
   "cell_type": "markdown",
   "metadata": {
    "slideshow": {
     "slide_type": "subslide"
    }
   },
   "source": [
    "## Numpy\n",
    "- [Teoría](1.1_numpy.ipynb)\n",
    "- [Ejercicios](../ejercicios/numpy_ejercicios.ipynb)"
   ]
  },
  {
   "cell_type": "markdown",
   "metadata": {
    "slideshow": {
     "slide_type": "slide"
    }
   },
   "source": [
    "<a href=\"https://pandas.pydata.org/\"><img src=\"../images/pandas.png\"></a>\n",
    "\n",
    "Extensión de NumPy para manipulación y análisis de datos para el lenguaje de programación Python.\n",
    "\n",
    "En particular, ofrece estructuras de datos y operaciones para manipular tablas numéricas y series temporales."
   ]
  },
  {
   "cell_type": "markdown",
   "metadata": {
    "slideshow": {
     "slide_type": "subslide"
    }
   },
   "source": [
    "<a href=\"https://www.datacamp.com/community/blog/python-pandas-cheat-sheet\"><img src=\"../images/pandas_datacamp_cheatsheet.png\"></a>"
   ]
  },
  {
   "cell_type": "markdown",
   "metadata": {
    "slideshow": {
     "slide_type": "slide"
    }
   },
   "source": [
    "## Pandas\n",
    "- [Teoría](1.2_pandas.ipynb)\n",
    "- [Ejercicios](../ejercicios/pandas_ejercicios.ipynb)"
   ]
  },
  {
   "cell_type": "code",
   "execution_count": 10,
   "metadata": {},
   "outputs": [
    {
     "data": {
      "text/plain": [
       "array([0, 1, 0, 1, 0, 1, 0, 1, 0, 1])"
      ]
     },
     "execution_count": 10,
     "metadata": {},
     "output_type": "execute_result"
    }
   ],
   "source": [
    "import numpy as np\n",
    "arr = np.array(range(10))\n",
    "mask = arr % 2\n",
    "arr[mask]"
   ]
  },
  {
   "cell_type": "markdown",
   "metadata": {
    "slideshow": {
     "slide_type": "slide"
    }
   },
   "source": [
    "<a href=\"https://www.scipy.org/\"><img src=\"../images/scipy.png\"></a>\n",
    "\n",
    "SciPy es una biblioteca open source de herramientas y algoritmos matemáticos para Python que nació a partir de la colección original de Travis Oliphant que consistía de módulos de extensión para Python, lanzada en 1999 bajo el nombre de Multipack"
   ]
  },
  {
   "cell_type": "markdown",
   "metadata": {
    "slideshow": {
     "slide_type": "subslide"
    }
   },
   "source": [
    "<a href=\"https://www.datacamp.com/community/blog/python-scipy-cheat-sheet\"><img src=\"../images/scipy_datacamp_cheatsheet.png\"></a>"
   ]
  },
  {
   "cell_type": "markdown",
   "metadata": {
    "slideshow": {
     "slide_type": "slide"
    }
   },
   "source": [
    "<a href=\"https://scikit-learn.org/stable/\"><img src=\"../images/scikit.png\"></a>\n",
    "\n",
    "\n",
    "Scikit-learn es una librería especializada en algoritmos para data mining y machine learning."
   ]
  },
  {
   "cell_type": "markdown",
   "metadata": {
    "slideshow": {
     "slide_type": "subslide"
    }
   },
   "source": [
    "- **Preprocesamiento**: Extracción de características a analizar y normalización de datos.\n",
    "- **Agrupaciones**: Agrupación automática de objetos similares en un conjunto.\n",
    "- **Reducción de dimensiones**: Reducir el número de variables aleatorias a considerar.\n",
    "- **Selección de Modelos**: Comparar, validar y elegir parámetros y modelos.\n",
    "- **Clasificaciones**: Identificar las categorías a que cada observación del conjunto de datos pertenece.\n",
    "- **Regresiones**: Predecire el valor continuo para cada nuevo ejemplo.\n"
   ]
  },
  {
   "cell_type": "markdown",
   "metadata": {
    "slideshow": {
     "slide_type": "subslide"
    }
   },
   "source": [
    "<a href=\"https://www.datacamp.com/community/blog/scikit-learn-cheat-sheet\"><img src=\"../images/scikit_datacamp_cheatsheet.png\"></a>"
   ]
  },
  {
   "cell_type": "markdown",
   "metadata": {
    "slideshow": {
     "slide_type": "slide"
    }
   },
   "source": [
    "### Bibliotecas de visualización de datos"
   ]
  },
  {
   "cell_type": "markdown",
   "metadata": {
    "slideshow": {
     "slide_type": "subslide"
    }
   },
   "source": [
    "<img src=\"../images/data-chart-type.png\">"
   ]
  },
  {
   "cell_type": "markdown",
   "metadata": {
    "slideshow": {
     "slide_type": "subslide"
    }
   },
   "source": [
    "### Boxplot\n",
    "<img src=\"../images/boxplot1.png\"> "
   ]
  },
  {
   "cell_type": "markdown",
   "metadata": {
    "slideshow": {
     "slide_type": "slide"
    }
   },
   "source": [
    "<a href=\"https://matplotlib.org/\"><img src=\"../images/matplotlib.jpg\"></a>\n",
    "Matplotlib es una biblioteca para la generación de gráficos a partir de datos contenidos en listas o arrays en el lenguaje de programación Python y su extensión matemática NumPy. Proporciona una API, pylab, diseñada para recordar a la de MATLAB."
   ]
  },
  {
   "cell_type": "markdown",
   "metadata": {
    "slideshow": {
     "slide_type": "subslide"
    }
   },
   "source": [
    "<a href=\"https://www.datacamp.com/community/blog/python-matplotlib-cheat-sheet\"><img src=\"../images/matplotlib_datacamp_cheatsheet.png\"></a>"
   ]
  },
  {
   "cell_type": "markdown",
   "metadata": {
    "slideshow": {
     "slide_type": "subslide"
    }
   },
   "source": [
    "- [Teoría](1.3_matplotlib.ipynb)\n",
    "- [Ejercicios](../ejercicios/matplotlib.ipynb)"
   ]
  },
  {
   "cell_type": "markdown",
   "metadata": {
    "slideshow": {
     "slide_type": "slide"
    }
   },
   "source": [
    "## [Seaborn](https://seaborn.pydata.org/)\n",
    "\n",
    "Seaborn es una librería de visualización de datos en Python basada en matplotlib. \n",
    "\n",
    "La idea de Seaborn es que los data scientists dispongan de una interfaz para hacer gráficos estadísticos atractivos e explicativos: el objetivo es visualizar datos complejos de forma sencilla y extraer conclusiones."
   ]
  },
  {
   "cell_type": "markdown",
   "metadata": {
    "slideshow": {
     "slide_type": "subslide"
    }
   },
   "source": [
    "Mejoras respecto a MatPlotLib:\n",
    "- Tiene varios temas integrados para mejorar el diseño de matplotlib.\n",
    "- Dispone de herramientas para la elección de paletas de colores.\n",
    "- Funciones para comparar subconjuntos de datos.\n",
    "- Herramientas para adaptar y visualizar modelos de regresión lineal.\n",
    "- Funciones para visualizar matrices de datos.\n",
    "- Uso de algoritmos de clustering.\n",
    "- Posibilidad de establecer series temporales estadísticas con los datos.  "
   ]
  },
  {
   "cell_type": "markdown",
   "metadata": {
    "slideshow": {
     "slide_type": "subslide"
    }
   },
   "source": [
    "<a href=\"https://www.datacamp.com/community/blog/seaborn-cheat-sheet-python\"><img src=\"../images/seaborn_datacamp_cheatsheet.png\"></a>"
   ]
  },
  {
   "cell_type": "markdown",
   "metadata": {
    "slideshow": {
     "slide_type": "subslide"
    }
   },
   "source": [
    "- [Teoría](1.4_seaborn.ipynb)\n",
    "- [Ejercicios](../ejercicios/seaborn_ejercicios.ipynb)"
   ]
  },
  {
   "cell_type": "markdown",
   "metadata": {
    "slideshow": {
     "slide_type": "slide"
    }
   },
   "source": [
    "- [The python graph gallery](https://python-graph-gallery.com/)"
   ]
  },
  {
   "cell_type": "markdown",
   "metadata": {
    "slideshow": {
     "slide_type": "slide"
    }
   },
   "source": [
    "<img src=\"../images/python-meme-funny.jpg\">\n",
    "\n",
    "[Ir al tema 2](2.0_intro_machine_learning.ipynb)"
   ]
  }
 ],
 "metadata": {
  "celltoolbar": "Slideshow",
  "kernelspec": {
   "display_name": "Python 3",
   "language": "python",
   "name": "python3"
  },
  "language_info": {
   "codemirror_mode": {
    "name": "ipython",
    "version": 3
   },
   "file_extension": ".py",
   "mimetype": "text/x-python",
   "name": "python",
   "nbconvert_exporter": "python",
   "pygments_lexer": "ipython3",
   "version": "3.6.8"
  },
  "livereveal": {
   "width": 1024
  }
 },
 "nbformat": 4,
 "nbformat_minor": 2
}
